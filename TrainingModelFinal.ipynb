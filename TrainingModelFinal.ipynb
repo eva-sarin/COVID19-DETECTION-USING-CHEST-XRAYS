{
  "nbformat": 4,
  "nbformat_minor": 0,
  "metadata": {
    "colab": {
      "name": "TrainingModel",
      "provenance": [],
      "private_outputs": true,
      "authorship_tag": "ABX9TyNAs5JLjjdcI4RmVFfUdaDA",
      "include_colab_link": true
    },
    "kernelspec": {
      "name": "python3",
      "display_name": "Python 3"
    },
    "accelerator": "GPU"
  },
  "cells": [
    {
      "cell_type": "markdown",
      "metadata": {
        "id": "view-in-github",
        "colab_type": "text"
      },
      "source": [
        "<a href=\"https://colab.research.google.com/github/eva-sarin/COVID19-DETECTION-USING-CHEST-XRAYS/blob/master/TrainingModelFinal.ipynb\" target=\"_parent\"><img src=\"https://colab.research.google.com/assets/colab-badge.svg\" alt=\"Open In Colab\"/></a>"
      ]
    },
    {
      "cell_type": "code",
      "metadata": {
        "id": "cPGIFlp95rCt",
        "colab_type": "code",
        "colab": {}
      },
      "source": [
        ""
      ],
      "execution_count": null,
      "outputs": []
    },
    {
      "cell_type": "markdown",
      "metadata": {
        "id": "r6HMVX3K5r8S",
        "colab_type": "text"
      },
      "source": [
        "Detecting COVID-19 with Chest X Ray using PyTorch\n",
        "\n",
        "Image classification of Chest X Rays in one of three classes: Normal, Viral Pneumonia, COVID-19\n",
        "\n",
        "Notebook created for the guided project Detecting COVID-19 with Chest X Ray using PyTorch on Coursera\n",
        "\n",
        "Dataset from COVID-19 Radiography Dataset on Kaggle"
      ]
    },
    {
      "cell_type": "code",
      "metadata": {
        "id": "Bt3KvYVR5tj4",
        "colab_type": "code",
        "colab": {}
      },
      "source": [
        ""
      ],
      "execution_count": null,
      "outputs": []
    },
    {
      "cell_type": "markdown",
      "metadata": {
        "id": "Grv8VZos5uV2",
        "colab_type": "text"
      },
      "source": [
        "Importing libraries"
      ]
    },
    {
      "cell_type": "code",
      "metadata": {
        "id": "iMVpXSum5wUE",
        "colab_type": "code",
        "colab": {}
      },
      "source": [
        "%matplotlib inline\n",
        "\n",
        "import os\n",
        "import shutil\n",
        "import random\n",
        "import torch\n",
        "import torchvision\n",
        "import numpy as np\n",
        "\n",
        "from PIL import Image\n",
        "from matplotlib import pyplot as plt\n",
        "\n",
        "torch.manual_seed(0)\n",
        "\n",
        "print('Using Pytorch version', torch.__version__)\n"
      ],
      "execution_count": null,
      "outputs": []
    },
    {
      "cell_type": "code",
      "metadata": {
        "id": "dXj1Epq86xyS",
        "colab_type": "code",
        "colab": {}
      },
      "source": [
        ""
      ],
      "execution_count": null,
      "outputs": []
    },
    {
      "cell_type": "markdown",
      "metadata": {
        "id": "t5yPbmXz7Dpb",
        "colab_type": "text"
      },
      "source": [
        "Preparing training and test datasets"
      ]
    },
    {
      "cell_type": "code",
      "metadata": {
        "id": "jAaVR8Ll7Hjy",
        "colab_type": "code",
        "colab": {}
      },
      "source": [
        "class_names = ['normal', 'viral', 'covid']\n",
        "root_dir = 'COVID-19 Radiography Database'\n",
        "source_dirs = ['NORMAL', 'Viral Pneumonia', 'COVID-19']\n",
        "\n",
        "if os.path.isdir(os.path.join(root_dir, source_dirs[1])):\n",
        "    os.mkdir(os.path.join(root_dir, 'test'))\n",
        "\n",
        "    for i, d in enumerate(source_dirs):\n",
        "        os.rename(os.path.join(root_dir, d), os.path.join(root_dir, class_names[i]))\n",
        "\n",
        "    for c in class_names:\n",
        "        os.mkdir(os.path.join(root_dir, 'test', c))\n",
        "    for c in class_names:\n",
        "        images = [x for x in os.listdir(os.path.join(root_dir, c)) if x.lower().endswith('png')]\n",
        "        selected_images = random.sample(images, 30)\n",
        "        for image in selected_images:\n",
        "            source_path = os.path.join(root_dir, c, image)\n",
        "            target_path = os.path.join(root_dir, 'test', c, image)\n",
        "            shutil.move(source_path, target_path)"
      ],
      "execution_count": null,
      "outputs": []
    },
    {
      "cell_type": "code",
      "metadata": {
        "id": "yt-qySHy--hm",
        "colab_type": "code",
        "colab": {}
      },
      "source": [
        ""
      ],
      "execution_count": null,
      "outputs": []
    },
    {
      "cell_type": "markdown",
      "metadata": {
        "id": "2QfZlFEw-_hb",
        "colab_type": "text"
      },
      "source": [
        "CREATING CUSTOM DATASET"
      ]
    },
    {
      "cell_type": "code",
      "metadata": {
        "id": "c9DFBOWl_D6u",
        "colab_type": "code",
        "colab": {}
      },
      "source": [
        "class ChestXRayDataset(torch.utils.data.Dataset):\n",
        "  def __init__(self,image_dirs,transform):\n",
        "    def get_images(class_name):\n",
        "      images=[x for x in os.listdir(image_dirs[class_name]) if x.endswith ('png')]\n",
        "      print(f'Found {len(images)}{class_name} examples')\n",
        "      return images \n",
        "\n",
        "    self.images={}\n",
        "    self.class_names=['normal','viral','covid']\n",
        "\n",
        "    for c in self.class_names:\n",
        "      self.images[c]=get_images(c)\n",
        "\n",
        "    self.images_dirs=image_dirs\n",
        "    self.transform=transform\n",
        "\n",
        "  def __len__(self):\n",
        "    return sum([len(slef.images[c]) for c in self.class_names])\n",
        "\n",
        "  def __getitem__(self,index): \n",
        "    class_name=random.choices(self.class_names)\n",
        "    index=index % len(self.images[class_name])\n",
        "\n",
        "  def __getitem__ (self, index):\n",
        "    class_name=random.choice(slef.class_names)\n",
        "    index=index%len(self.images[class_name])\n",
        "    image_name=self.images[class_name][index]\n",
        "    image_path= os.path.join(self.image_dirs[class_name],image_name)\n",
        "    image=Image.open(image_path).convert('RGB')\n",
        "    return self.transform(image), self.class_names(class_name)        "
      ],
      "execution_count": null,
      "outputs": []
    },
    {
      "cell_type": "code",
      "metadata": {
        "id": "NfsgTMB4sECW",
        "colab_type": "code",
        "colab": {}
      },
      "source": [
        ""
      ],
      "execution_count": null,
      "outputs": []
    },
    {
      "cell_type": "markdown",
      "metadata": {
        "id": "TNv146fCu6yw",
        "colab_type": "text"
      },
      "source": [
        "IMAGE TRANSFORMATIONS"
      ]
    },
    {
      "cell_type": "code",
      "metadata": {
        "id": "yWNbJzcHu9IQ",
        "colab_type": "code",
        "colab": {}
      },
      "source": [
        "train_transform= torchvision.transforms.Compose([\n",
        "   torchvision.transforms.Resize(size=(224,224)),\n",
        "   torchvision.transforms.RandomHorizontalFlip(),\n",
        "   torchvision.transforms.ToTensor(),\n",
        "   torchvision.transforms.Normalize(mean=[0.0485,0.456,0.406],\n",
        "                                  std=[0.229,0.224,0.225])\n",
        "                                                                                        \n",
        "\n",
        "])"
      ],
      "execution_count": null,
      "outputs": []
    },
    {
      "cell_type": "code",
      "metadata": {
        "id": "g9paDnVn0nJs",
        "colab_type": "code",
        "colab": {}
      },
      "source": [
        "test_transform= torchvision.transforms.Compose([\n",
        "   torchvision.transforms.Resize(size=(224,224)),\n",
        "   torchvision.transforms.ToTensor(),\n",
        "   torchvision.transforms.Normalize(mean=[0.0485,0.456,0.406],\n",
        "                                  std=[0.229,0.224,0.225])\n",
        "                                                                                        \n",
        "\n",
        "])"
      ],
      "execution_count": null,
      "outputs": []
    },
    {
      "cell_type": "code",
      "metadata": {
        "id": "A9bGxj0k0vAw",
        "colab_type": "code",
        "colab": {}
      },
      "source": [
        "import zipfile\n",
        "from google.colab import drive\n",
        "\n",
        "drive.mount('/content/drive/')\n",
        "\n",
        "zip_ref = zipfile.ZipFile(\"/content/drive/My Drive/COVID-19 Radiography Database.zip\", 'r')\n",
        "zip_ref.extractall(\"/tmp\")\n",
        "zip_ref.close()"
      ],
      "execution_count": null,
      "outputs": []
    },
    {
      "cell_type": "markdown",
      "metadata": {
        "id": "xBrSJXCa0v6Z",
        "colab_type": "text"
      },
      "source": [
        "PREPARE DATALOADER[link text](https://)"
      ]
    },
    {
      "cell_type": "code",
      "metadata": {
        "id": "08DNZ10qcr_P",
        "colab_type": "code",
        "colab": {}
      },
      "source": [
        "train_dirs={\n",
        "    'NORMAL': 'COVID-19 Radiography Database/NORMAL',\n",
        "    'Viral Pneumonia': 'COVID-19 Radiography Database/Viral Pneumonia ',\n",
        "    'COVID-19': 'COVID-19 Radiography Database/COVID-19'\n",
        "}\n",
        "train_dataset = ChestXRayDataset(train_dirs, train_transform)"
      ],
      "execution_count": null,
      "outputs": []
    },
    {
      "cell_type": "code",
      "metadata": {
        "id": "zgFk91qgd-LR",
        "colab_type": "code",
        "colab": {}
      },
      "source": [
        "test_dirs={\n",
        "    'NORMAL': 'COVID-19 Radiography Database/NORMAL',\n",
        "    'Viral Pneumonia': 'COVID-19 Radiography Database/Viral Pneumonia ',\n",
        "    'COVID-19': 'COVID-19 Radiography Database/COVID-19'\n",
        "}\n",
        "test_dataset = ChestXRayDataset(test_dirs, test_transform)"
      ],
      "execution_count": null,
      "outputs": []
    },
    {
      "cell_type": "code",
      "metadata": {
        "id": "daDnKb8WiTC-",
        "colab_type": "code",
        "colab": {}
      },
      "source": [
        "batch_size=6\n",
        "\n",
        "dl_train=torch.utils.data.Dataloader(train_dataset, batch_size=batch_size, \n",
        "                                     shuffle= True)\n",
        "dl_test=torch.utils.data.Dataloader(test_dataset, batch_size=batch_size,\n",
        "                                    shuffle=True)\n",
        "\n",
        "print('Num of training batches', len(dl_train))\n",
        "print('Num of test batches', len(dl_test))\n"
      ],
      "execution_count": null,
      "outputs": []
    },
    {
      "cell_type": "markdown",
      "metadata": {
        "id": "HILyMIG--AXm",
        "colab_type": "text"
      },
      "source": [
        "DATA VISUALIZATION"
      ]
    },
    {
      "cell_type": "code",
      "metadata": {
        "id": "rNRHn1ji9-NJ",
        "colab_type": "code",
        "colab": {}
      },
      "source": [
        "class_names = train_dataset.class_names\n",
        "\n",
        "\n",
        "def show_images(images, labels, preds):\n",
        "  plt.figure(figsize=(8,4))\n",
        "  for i,image in enumerate (images):\n",
        "    plt.subplot(1,6,i+1, xticks=[], yticks=[])\n",
        "    image=image.numpy.transpose((1,2, 0))\n",
        "    mean=np.array([0.485,0.456,0.406])\n",
        "    std=np.array([0.229,0.224,0.225])\n",
        "    image=image*std+mean\n",
        "    iamge=np.clip(image,0.,1.)\n",
        "    plt.imshow(image)\n",
        "\n",
        "    col='green' if preds[i]==labels[i] else 'red'\n",
        "\n",
        "    plt.xlabel(f'{class_names[int(labels[i].numpy())]}')\n",
        "    plt.ylabel(f'{class_names[int(preds[i].numpy())]}', colot=col)\n",
        "\n",
        "  plt.tight_layout()\n",
        "  plt.show()  "
      ],
      "execution_count": null,
      "outputs": []
    },
    {
      "cell_type": "code",
      "metadata": {
        "id": "XnqwffNV0jrX",
        "colab_type": "code",
        "colab": {}
      },
      "source": [
        "images, labels=next(iter(dl_train))\n",
        "show_images(images, labels, labels)"
      ],
      "execution_count": null,
      "outputs": []
    },
    {
      "cell_type": "code",
      "metadata": {
        "id": "H6TD8yeA0tHX",
        "colab_type": "code",
        "colab": {}
      },
      "source": [
        "images, labels=next(iter(dl_test))\n",
        "show_images(images, labels, lables)"
      ],
      "execution_count": null,
      "outputs": []
    },
    {
      "cell_type": "code",
      "metadata": {
        "id": "2_7IGKF804qw",
        "colab_type": "code",
        "colab": {}
      },
      "source": [
        ""
      ],
      "execution_count": null,
      "outputs": []
    },
    {
      "cell_type": "markdown",
      "metadata": {
        "id": "Njk7OWj_05Rq",
        "colab_type": "text"
      },
      "source": [
        "Creating The Model"
      ]
    },
    {
      "cell_type": "code",
      "metadata": {
        "id": "lWZ5jmGG07HQ",
        "colab_type": "code",
        "colab": {}
      },
      "source": [
        "resnet18= torchvision.models.resnet18(pretrained=True)\n",
        "print(resent18)"
      ],
      "execution_count": null,
      "outputs": []
    },
    {
      "cell_type": "code",
      "metadata": {
        "id": "O3yfBWca15mb",
        "colab_type": "code",
        "colab": {}
      },
      "source": [
        "resnet18.fc= torch.nn.linear(in_features=512, out_features=3)\n",
        "loss_fn=torch.nn.CrossEntropyLoss()\n",
        "optimizer=torch.optim.Adam(resnet18.parameters(), lr=3e-5)"
      ],
      "execution_count": null,
      "outputs": []
    },
    {
      "cell_type": "code",
      "metadata": {
        "id": "eZzv65r45Bfv",
        "colab_type": "code",
        "colab": {}
      },
      "source": [
        "def show_preds():\n",
        "  resnet18.eval()\n",
        "  images, labels =next(iter(dl_test))\n",
        "  outputs= resnet18(images)\n",
        "  _, preds=torch.max(outputs,1)\n",
        "  show_images(images,labels, preds)"
      ],
      "execution_count": null,
      "outputs": []
    },
    {
      "cell_type": "code",
      "metadata": {
        "id": "BultmjSL5Wpl",
        "colab_type": "code",
        "colab": {}
      },
      "source": [
        "show_preds()"
      ],
      "execution_count": null,
      "outputs": []
    },
    {
      "cell_type": "markdown",
      "metadata": {
        "id": "onL2tPN25YsX",
        "colab_type": "text"
      },
      "source": [
        "Training The Model"
      ]
    },
    {
      "cell_type": "code",
      "metadata": {
        "id": "M28pP1L85aSP",
        "colab_type": "code",
        "colab": {}
      },
      "source": [
        "def train(epochs):\n",
        "  print('Starting training..')\n",
        "  for e in range(0,epochs):\n",
        "    print('='*20)\n",
        "    print(f'Starting epoch {e+1}/{epochs}')\n",
        "    print('='*20)\n",
        "\n",
        "    train_loss=0\n",
        "\n",
        "    resnet18.train()\n",
        "\n",
        "    for train_step,(images, labels) in enumerate(dl_train):\n",
        "      optimizer.zero_grad()\n",
        "      outputs=resnet18(images)\n",
        "      loss=loss_fn(outputs, labels)\n",
        "      loss.backward()\n",
        "      optimizer.step()\n",
        "      train_loss+=loss.item()\n",
        "      if train_step %==0:\n",
        "        print('Evaluating at step', train_step)\n",
        "        acc=0.\n",
        "        val_loss=0.\n",
        "        resnet18.eval()\n",
        "\n",
        "        for val_step,(images, labels) in enumerate(dl_test):\n",
        "          outputs=resnet18(images)\n",
        "          loss=loss_fn(outputs, labels)\n",
        "          val_loss+=loss.item()\n",
        "\n",
        "          _, preds=torch.max(outputs, 1)\n",
        "          acc+=sum(preds==labels).numpy())\n",
        "        val_loss/=(val_step+1)\n",
        "        acc=acc/len(test_dataset)\n",
        "        print(f'Val loss: {val_loss:.4f}, Acc: {acc:.4f}')\n",
        "        show_preds \n",
        "\n",
        "        resnet18.trainn()\n",
        "\n",
        "        if acc>0.95:\n",
        "          print('Performance condition satisifed..')\n",
        "          return\n",
        "  train_loss/=(train_step+1)\n",
        "  print(f'Training loss: {train_loss:4f}')        \n",
        "\n"
      ],
      "execution_count": null,
      "outputs": []
    },
    {
      "cell_type": "code",
      "metadata": {
        "id": "o3IwzTst_nIL",
        "colab_type": "code",
        "colab": {}
      },
      "source": [
        "train(epochs=1)"
      ],
      "execution_count": null,
      "outputs": []
    },
    {
      "cell_type": "code",
      "metadata": {
        "id": "_2c0CKNt_pqW",
        "colab_type": "code",
        "colab": {}
      },
      "source": [
        ""
      ],
      "execution_count": null,
      "outputs": []
    },
    {
      "cell_type": "markdown",
      "metadata": {
        "id": "UVs7Sr3U_tel",
        "colab_type": "text"
      },
      "source": [
        "FINAL RESULTS"
      ]
    },
    {
      "cell_type": "code",
      "metadata": {
        "id": "0_4taNVG_upH",
        "colab_type": "code",
        "colab": {}
      },
      "source": [
        "show_preds()"
      ],
      "execution_count": null,
      "outputs": []
    },
    {
      "cell_type": "code",
      "metadata": {
        "id": "HaoXFFWH_5lG",
        "colab_type": "code",
        "colab": {}
      },
      "source": [
        ""
      ],
      "execution_count": null,
      "outputs": []
    }
  ]
}